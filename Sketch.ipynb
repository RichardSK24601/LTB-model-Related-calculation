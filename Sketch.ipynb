{
 "cells": [
  {
   "cell_type": "code",
   "execution_count": 1,
   "id": "a7d8f143",
   "metadata": {},
   "outputs": [],
   "source": [
    "import numpy as np\n",
    "from scipy.integrate import quad\n",
    "import matplotlib.pyplot as plt\n",
    "def rho_frw(t):\n",
    "    return 25\n",
    "def rho(r,t):\n",
    "    r_h=0.042\n",
    "    A=50.59\n",
    "    r_M=0.037\n",
    "    sig=r_h/10\n",
    "    eps=0.0025\n",
    "\n",
    "    if r> r_h:\n",
    "        return rho_frw(t)\n",
    "    else:\n",
    "        return A*np.exp(-1*(r-r_M)**2/(2*sig**2))+eps\n",
    "def intg(r,t):\n",
    "    return rho(r,t)*r**2\n",
    "\n",
    "def H_frw(t):\n",
    "    return np.sqrt((4/9)*rho_frw(t))\n",
    "def rho_bar(r,t):\n",
    "    temp=quad(intg, 0, r,args=t)[0]\n",
    "    temp=temp*3/r**3\n",
    "    return temp\n",
    "\n",
    "def M(r):\n",
    "    t=1\n",
    "    temp=rho_bar(r,t)*r**3*4/3*np.pi\n",
    "    return temp\n",
    "def dM(r):\n",
    "    dr=0.01\n",
    "    return (M(r+dr/2)-M(r-dr/2))/dr\n",
    "\n",
    "def E(r):\n",
    "    t=1\n",
    "    temp=1/2*H_frw(t)**2*r**2-1/(6*np.pi)*M(r)/r\n",
    "    return temp\n",
    "\n",
    "def dYdr(Y,r):\n",
    "    dr=r[2]-r[0]\n",
    "    Y=np.insert(Y, 0, Y[0], axis=0)\n",
    "    Y=np.append(Y,Y[len(Y)-1])\n",
    "    temp=[]\n",
    "    for i in range(len(r)):\n",
    "        t=(Y[i+2]-Y[i])/dr\n",
    "        temp.append(t)\n",
    "    return temp\n"
   ]
  },
  {
   "cell_type": "code",
   "execution_count": 2,
   "id": "de26d78e",
   "metadata": {},
   "outputs": [],
   "source": [
    "def t_hat(r,t_bar):\n",
    "    return t_bar-rho_bar(r,t_bar)**(-1/2)\n",
    "def Y(r,t):\n",
    "    t_bar=-0.8\n",
    "    temp=(3*M(r)/(4*np.pi))**(1/3)*(t-t_hat(r,t_bar))**(2/3)\n",
    "    return temp"
   ]
  },
  {
   "cell_type": "code",
   "execution_count": 5,
   "id": "f736f0fd",
   "metadata": {},
   "outputs": [
    {
     "name": "stderr",
     "output_type": "stream",
     "text": [
      "C:\\Users\\87588\\AppData\\Local\\Temp\\ipykernel_57052\\4021913093.py:24: RuntimeWarning: invalid value encountered in scalar divide\n",
      "  temp=temp*3/r**3\n"
     ]
    },
    {
     "data": {
      "text/plain": [
       "[<matplotlib.lines.Line2D at 0x2ae2a692950>]"
      ]
     },
     "execution_count": 5,
     "metadata": {},
     "output_type": "execute_result"
    },
    {
     "data": {
      "image/png": "[encoded data removed]",
      "text/plain": [
       "<Figure size 640x480 with 1 Axes>"
      ]
     },
     "metadata": {},
     "output_type": "display_data"
    }
   ],
   "source": [
    "r=np.linspace(0, 0.05,10000)\n",
    "t=1\n",
    "I=[]\n",
    "for i in range(0,len(r)):\n",
    "    I.append(rho_bar(r[i],t))\n",
    "I=np.array(I)\n",
    "rplot=[]\n",
    "MArray=[]\n",
    "for i in range(0,len(r)):\n",
    "    rplot.append(rho(r[i], t))\n",
    "\n",
    "for i in range(0,len(r)):\n",
    "    MArray.append(M(r[i]))\n",
    "\n",
    "plt.figure()\n",
    "plt.plot(r,MArray)"
   ]
  },
  {
   "cell_type": "code",
   "execution_count": null,
   "id": "30e7ea78",
   "metadata": {},
   "outputs": [],
   "source": []
  }
 ],
 "metadata": {
  "kernelspec": {
   "display_name": "Python 3 (ipykernel)",
   "language": "python",
   "name": "python3"
  },
  "language_info": {
   "codemirror_mode": {
    "name": "ipython",
    "version": 3
   },
   "file_extension": ".py",
   "mimetype": "text/x-python",
   "name": "python",
   "nbconvert_exporter": "python",
   "pygments_lexer": "ipython3",
   "version": "3.11.5"
  }
 },
 "nbformat": 4,
 "nbformat_minor": 5
}
